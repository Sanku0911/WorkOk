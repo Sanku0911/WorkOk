{
  "nbformat": 4,
  "nbformat_minor": 0,
  "metadata": {
    "colab": {
      "private_outputs": true,
      "provenance": [],
      "authorship_tag": "ABX9TyPuN+VvNhgS9OPwJ7kS0fLD",
      "include_colab_link": true
    },
    "kernelspec": {
      "name": "python3",
      "display_name": "Python 3"
    },
    "language_info": {
      "name": "python"
    }
  },
  "cells": [
    {
      "cell_type": "markdown",
      "metadata": {
        "id": "view-in-github",
        "colab_type": "text"
      },
      "source": [
        "<a href=\"https://colab.research.google.com/github/Sanku0911/WorkOk/blob/main/First_Projest.ipynb\" target=\"_parent\"><img src=\"https://colab.research.google.com/assets/colab-badge.svg\" alt=\"Open In Colab\"/></a>"
      ]
    },
    {
      "cell_type": "markdown",
      "source": [
        "# **My First ML Project**"
      ],
      "metadata": {
        "id": "5vCpMd5NaFMO"
      }
    },
    {
      "cell_type": "markdown",
      "source": [
        "# **Load Data**"
      ],
      "metadata": {
        "id": "4EOek6fsatle"
      }
    },
    {
      "cell_type": "code",
      "source": [
        "import pandas as pd\n",
        "df = pd.read_csv('https://raw.githubusercontent.com/dataprofessor/data/master/delaney_solubility_with_descriptors.csv')\n",
        "df"
      ],
      "metadata": {
        "id": "AmdKujA4azfb"
      },
      "execution_count": null,
      "outputs": []
    },
    {
      "cell_type": "markdown",
      "source": [
        "# **Data preparation**"
      ],
      "metadata": {
        "id": "wU5UpCidcPOD"
      }
    },
    {
      "cell_type": "markdown",
      "source": [
        "### **Data sepretion as X and y**"
      ],
      "metadata": {
        "id": "klJYb17ddVsX"
      }
    },
    {
      "cell_type": "code",
      "source": [
        "y = df['logS']\n",
        "y"
      ],
      "metadata": {
        "id": "Qx6aAU06j1HU"
      },
      "execution_count": null,
      "outputs": []
    },
    {
      "cell_type": "code",
      "source": [
        "X = df.drop('logS', axis=1)\n",
        "X"
      ],
      "metadata": {
        "id": "U_jksVZFkHYj"
      },
      "execution_count": null,
      "outputs": []
    },
    {
      "cell_type": "markdown",
      "source": [
        "### **Data splitting**"
      ],
      "metadata": {
        "id": "x_XKCoqRlTb3"
      }
    },
    {
      "cell_type": "code",
      "source": [
        "from sklearn.model_selection import train_test_split\n",
        "X_train, X_test, y_train, y_test = train_test_split(X, y, test_size=0.2, random_state=100)"
      ],
      "metadata": {
        "id": "ATg-OTtwlblO"
      },
      "execution_count": null,
      "outputs": []
    },
    {
      "cell_type": "code",
      "source": [
        "X_train"
      ],
      "metadata": {
        "id": "4tDpx-M3ml4s"
      },
      "execution_count": null,
      "outputs": []
    },
    {
      "cell_type": "code",
      "source": [
        "X_test"
      ],
      "metadata": {
        "id": "x6BirGj_myVE"
      },
      "execution_count": null,
      "outputs": []
    },
    {
      "cell_type": "markdown",
      "source": [
        "# **Model Building**"
      ],
      "metadata": {
        "id": "yaS4_Ojjn-g7"
      }
    },
    {
      "cell_type": "markdown",
      "source": [
        "## **LinearRegression**"
      ],
      "metadata": {
        "id": "qy2mIwBjoKQ5"
      }
    },
    {
      "cell_type": "markdown",
      "source": [
        "### **Tranning the model**"
      ],
      "metadata": {
        "id": "Rnx_lGbJsbYs"
      }
    },
    {
      "cell_type": "code",
      "source": [
        "from sklearn.linear_model import LinearRegression\n",
        "\n",
        "lr = LinearRegression()\n",
        "lr.fit(X_train,y_train)"
      ],
      "metadata": {
        "id": "8y4fZjJEoeoW"
      },
      "execution_count": null,
      "outputs": []
    },
    {
      "cell_type": "markdown",
      "source": [
        "###  **Applying the model to make a prediction**"
      ],
      "metadata": {
        "id": "ylFL6_Z5srcs"
      }
    },
    {
      "cell_type": "code",
      "source": [
        "y_lr_train_pred = lr.predict(X_train)\n",
        "y_lr_test_pred = lr.predict(X_test)\n"
      ],
      "metadata": {
        "id": "oD1oEGGTs2G9"
      },
      "execution_count": null,
      "outputs": []
    },
    {
      "cell_type": "code",
      "source": [
        "y_lr_train_pred"
      ],
      "metadata": {
        "id": "uKvG28TPtZp0"
      },
      "execution_count": null,
      "outputs": []
    },
    {
      "cell_type": "code",
      "source": [
        "y_lr_test_pred"
      ],
      "metadata": {
        "id": "vSrFQkNTlOKb"
      },
      "execution_count": null,
      "outputs": []
    },
    {
      "cell_type": "markdown",
      "source": [
        "### **Evaluate model performance**"
      ],
      "metadata": {
        "id": "Igow2IXDuENp"
      }
    },
    {
      "cell_type": "code",
      "source": [
        "from sklearn.metrics import mean_squared_error,r2_score\n",
        "\n",
        "lr_train_mse = mean_squared_error(y_train, y_lr_train_pred)\n",
        "lr_train_r2 = r2_score(y_train, y_lr_train_pred)\n",
        "\n",
        "lr_test_mse = mean_squared_error(y_test, y_lr_test_pred)\n",
        "lr_test_r2 = r2_score(y_test, y_lr_test_pred)"
      ],
      "metadata": {
        "id": "vF_lNhBbfDvS"
      },
      "execution_count": null,
      "outputs": []
    },
    {
      "cell_type": "code",
      "source": [
        "print('LR MSE(Train): ', lr_train_mse)\n",
        "print('LR R2(Train): ', lr_train_r2)\n",
        "print('LR MSE(test): ', lr_test_mse)\n",
        "print('LR R2(test): ', lr_test_r2)"
      ],
      "metadata": {
        "id": "UwhEA-EvqKVa"
      },
      "execution_count": null,
      "outputs": []
    },
    {
      "cell_type": "code",
      "source": [
        "lr_results = pd.DataFrame([ 'Linear regression', lr_train_mse, lr_train_r2, lr_test_mse, lr_test_r2 ]).transpose()\n",
        "lr_results.columns = ['Method','Training MSE', 'Training R2', 'Test MSE', 'Test R2']"
      ],
      "metadata": {
        "id": "YVibq6oArZt8"
      },
      "execution_count": null,
      "outputs": []
    },
    {
      "cell_type": "code",
      "source": [
        "lr_results"
      ],
      "metadata": {
        "id": "p6ODu9eRtYlv"
      },
      "execution_count": null,
      "outputs": []
    },
    {
      "cell_type": "markdown",
      "source": [
        "## **Randome forest**"
      ],
      "metadata": {
        "id": "KdZfyYf-u9jN"
      }
    },
    {
      "cell_type": "markdown",
      "source": [
        "### **Training the model**"
      ],
      "metadata": {
        "id": "_1oKBZrBvgCS"
      }
    },
    {
      "cell_type": "code",
      "source": [
        "from sklearn.ensemble import RandomForestRegressor\n",
        "\n",
        "rf = RandomForestRegressor(max_depth=2, random_state=100)\n",
        "rf.fit(X_train, y_train)"
      ],
      "metadata": {
        "id": "i6e4w4tYx5lm"
      },
      "execution_count": null,
      "outputs": []
    },
    {
      "cell_type": "markdown",
      "source": [
        "### **Applying the model to make a prediction**"
      ],
      "metadata": {
        "id": "S-O9IU4EvzFd"
      }
    },
    {
      "cell_type": "code",
      "source": [
        "y = rf_train_pred = rf.predict(X_train)\n",
        "y_rf_test_pred = rf.predict(X_test)"
      ],
      "metadata": {
        "id": "xWPumkEyy6EA"
      },
      "execution_count": null,
      "outputs": []
    },
    {
      "cell_type": "markdown",
      "source": [
        "### **Evaluate model performance**"
      ],
      "metadata": {
        "id": "jGG1yu8zv_EU"
      }
    },
    {
      "cell_type": "code",
      "source": [
        "from sklearn.metrics import mean_squared_error,r2_score\n",
        "\n",
        "rf_train_mse = mean_squared_error(y_train, y_rf_train_pred)\n",
        "rf_train_r2 =r2_score(y_train, y_rf_train_pred)\n",
        "\n",
        "rf_test_mse = mean_squared_error(y_test, y_rf_test_pred)\n",
        "rf_test_r2 =r2_score(y_test, y_rf_test_pred)"
      ],
      "metadata": {
        "id": "5Y-uSPRZtuwc"
      },
      "execution_count": null,
      "outputs": []
    },
    {
      "cell_type": "code",
      "source": [
        "rf_results = pd.DataFrame([ 'Random forest', rf_train_mse, rf_train_r2, rf_test_mse, rf_test_r2 ]).transpose()\n",
        "rf_results.columns = ['Method','Training MSE', 'Training R2', 'Test MSE', 'Test R2']\n",
        "rf_results"
      ],
      "metadata": {
        "id": "1gNAgc7aJED2"
      },
      "execution_count": null,
      "outputs": []
    },
    {
      "cell_type": "markdown",
      "source": [
        "## **Model comparetion**"
      ],
      "metadata": {
        "id": "WBip6ryg0qVm"
      }
    },
    {
      "cell_type": "code",
      "source": [
        "df_models = pd.concat([rf_results, rf_results], axis=0)\n",
        "df_models\n"
      ],
      "metadata": {
        "id": "WFjMBrqk0xIx"
      },
      "execution_count": null,
      "outputs": []
    },
    {
      "cell_type": "code",
      "source": [
        "df_models.reset_index(drop=True)"
      ],
      "metadata": {
        "id": "u6NoDPab1weS"
      },
      "execution_count": null,
      "outputs": []
    },
    {
      "cell_type": "markdown",
      "source": [
        "# Deta visualizatin of prediction results"
      ],
      "metadata": {
        "id": "elVOkbHq2ZXs"
      }
    },
    {
      "cell_type": "code",
      "source": [
        "import matplotlib.pyplot as plt\n",
        "import numpy as np\n",
        "\n",
        "plt.figure(figsize=(5,5))\n",
        "plt.scatter(x=y_train, y=y_lr_train_pred, c=\"#7CAE00\" ,alpha=0.3)\n",
        "\n",
        "z = np.polyfit(y_train, y_lr_train_pred, 1)\n",
        "p = np.poly1d(z)\n",
        "\n",
        "plt.plot(y_train,p(y_train),\"#F8766D\")\n",
        "plt.ylabel('Predict LogS')\n",
        "plt.xlabel('Experimental LogS')"
      ],
      "metadata": {
        "id": "nlMtn6trK-CI"
      },
      "execution_count": null,
      "outputs": []
    }
  ]
}